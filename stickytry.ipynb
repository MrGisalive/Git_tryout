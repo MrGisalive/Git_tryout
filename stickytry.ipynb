{
 "cells": [
  {
   "cell_type": "markdown",
   "id": "18fedfa9",
   "metadata": {},
   "source": [
    "## Tkinter `sticky` Példa és Magyarázat\n",
    "\n",
    "A `grid()` függvény `sticky` argumentuma határozza meg, hogy egy widget hogyan tapadjon a rendelkezésre álló cellához.\n",
    "\n",
    "**Lehetséges értékek:**\n",
    "- `'n'` – északra (felülre) tapad\n",
    "- `'s'` – délre (alulra) tapad\n",
    "- `'e'` – keletre (jobbra) tapad\n",
    "- `'w'` – nyugatra (balra) tapad\n",
    "- `'nsew'` – minden irányba nyúlik, kitölti a cellát\n",
    "\n",
    "**Példa:**\n",
    "Az alábbi Tkinter példa megmutatja a különböző `sticky` beállításokat működés közben.  \n",
    "A `grid_columnconfigure` és `grid_rowconfigure` segítségével a cellák reszponzívak lesznek.\n",
    "\n",
    "Futtasd a következő kódcellát, majd **méretezd át az ablakot**, hogy lásd a hatást.\n"
   ]
  },
  {
   "cell_type": "code",
   "execution_count": null,
   "id": "9fe363b5",
   "metadata": {},
   "outputs": [],
   "source": [
    "import tkinter as tk\n",
    "\n",
    "root = tk.Tk()\n",
    "root.title(\"Sticky Grid Example\")\n",
    "root.geometry(\"400x200\")\n",
    "\n",
    "# Sorok/oszlopok konfigurálása, hogy nyúlhassanak\n",
    "root.grid_columnconfigure(0, weight=1)\n",
    "root.grid_columnconfigure(1, weight=1)\n",
    "root.grid_rowconfigure(0, weight=1)\n",
    "root.grid_rowconfigure(1, weight=1)\n",
    "\n",
    "# Különböző sticky beállítású címkék\n",
    "label1 = tk.Label(root, text=\"Top Left (nw)\", bg=\"lightblue\")\n",
    "label1.grid(row=0, column=0, sticky=\"nw\", padx=10, pady=10)\n",
    "\n",
    "label2 = tk.Label(root, text=\"Stretch Full (nsew)\", bg=\"lightgreen\")\n",
    "label2.grid(row=0, column=1, sticky=\"nsew\", padx=10, pady=10)\n",
    "\n",
    "label3 = tk.Label(root, text=\"Bottom Right (se)\", bg=\"salmon\")\n",
    "label3.grid(row=1, column=1, sticky=\"se\", padx=10, pady=10)\n",
    "\n",
    "label4 = tk.Label(root, text=\"Left Stretch (ns)\", bg=\"orange\")\n",
    "label4.grid(row=1, column=0, sticky=\"ns\", padx=10, pady=10)\n",
    "\n",
    "print(\"Ez a GUI ablak bemutatja a 'sticky' beállítások hatását. Próbáld meg átméretezni az ablakot!\")\n",
    "\n",
    "root.mainloop()\n"
   ]
  }
 ],
 "metadata": {
  "kernelspec": {
   "display_name": "Python 3",
   "language": "python",
   "name": "python3"
  },
  "language_info": {
   "name": "python",
   "version": "3.12.1"
  }
 },
 "nbformat": 4,
 "nbformat_minor": 5
}
