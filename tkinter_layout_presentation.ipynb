{
 "cells": [
  {
   "cell_type": "markdown",
   "id": "4394de8c",
   "metadata": {},
   "source": [
    "## 🧲 Tkinter `sticky` használata\n",
    "\n",
    "A `sticky` megmondja, hogy egy widget hogyan tapadjon a cellán belül.\n",
    "\n",
    "```\n",
    "'n'  = észak (felülre)\n",
    "'s'  = dél (alulra)\n",
    "'e'  = kelet (jobbra)\n",
    "'w'  = nyugat (balra)\n",
    "'nsew' = minden irányban kitölti a helyet\n",
    "```\n",
    "\n",
    "Nézd meg az alábbi példát, hogyan viselkednek különböző `sticky` beállításokkal az elemek, ha átméretezed az ablakot.\n"
   ]
  },
  {
   "cell_type": "code",
   "execution_count": null,
   "id": "7da13b0a",
   "metadata": {},
   "outputs": [],
   "source": [
    "import tkinter as tk\n",
    "\n",
    "root = tk.Tk()\n",
    "root.title(\"Sticky Variations\")\n",
    "root.geometry(\"400x200\")\n",
    "\n",
    "for i in range(2):\n",
    "    root.grid_columnconfigure(i, weight=1)\n",
    "    root.grid_rowconfigure(i, weight=1)\n",
    "\n",
    "# Egyes sticky variációk\n",
    "tk.Label(root, text=\"N (top)\", bg=\"lightblue\").grid(row=0, column=0, sticky=\"n\", padx=5, pady=5)\n",
    "tk.Label(root, text=\"S (bottom)\", bg=\"lightgreen\").grid(row=1, column=0, sticky=\"s\", padx=5, pady=5)\n",
    "tk.Label(root, text=\"E (right)\", bg=\"salmon\").grid(row=0, column=1, sticky=\"e\", padx=5, pady=5)\n",
    "tk.Label(root, text=\"W (left)\", bg=\"orange\").grid(row=1, column=1, sticky=\"w\", padx=5, pady=5)\n",
    "\n",
    "root.mainloop()\n"
   ]
  },
  {
   "cell_type": "markdown",
   "id": "8fd825a5",
   "metadata": {},
   "source": [
    "## 🧭 Tkinter `anchor` használata\n",
    "\n",
    "Az `anchor` a **widget tartalmán belüli szöveg** igazítását szabályozza.\n",
    "\n",
    "Lehetséges értékek: `'n'`, `'s'`, `'e'`, `'w'`, `'center'`, `'ne'`, `'sw'`, stb.\n",
    "\n",
    "Az alábbi példa megmutatja, hogyan viselkedik egy nagy címke különböző `anchor` beállításokkal.\n"
   ]
  },
  {
   "cell_type": "code",
   "execution_count": null,
   "id": "e0fb2fc9",
   "metadata": {},
   "outputs": [],
   "source": [
    "import tkinter as tk\n",
    "\n",
    "root = tk.Tk()\n",
    "root.title(\"Anchor Demo\")\n",
    "root.geometry(\"300x150\")\n",
    "\n",
    "frame = tk.Frame(root)\n",
    "frame.pack(fill=\"both\", expand=True)\n",
    "\n",
    "label = tk.Label(frame, text=\"Anchored Text\", bg=\"lightgray\", anchor=\"se\", width=30, height=5, relief=\"solid\")\n",
    "label.pack(fill=\"both\", expand=True)\n",
    "\n",
    "print(\"Ez a szöveg délkeletre ('se') van igazítva a label dobozon belül.\")\n",
    "\n",
    "root.mainloop()\n"
   ]
  },
  {
   "cell_type": "markdown",
   "id": "70c1d001",
   "metadata": {},
   "source": [
    "## 📄 Tkinter `justify` használata\n",
    "\n",
    "A `justify` csak **többsoros szöveg** esetén működik, és a sorok **egymáshoz viszonyított** igazítását szabályozza.\n",
    "\n",
    "Értékei:\n",
    "- `'left'` – balra zárt\n",
    "- `'center'` – középre zárt\n",
    "- `'right'` – jobbra zárt\n",
    "\n",
    "Az alábbi példa bemutatja ezt egy többsoros `Label` esetén.\n"
   ]
  },
  {
   "cell_type": "code",
   "execution_count": null,
   "id": "00afb74a",
   "metadata": {},
   "outputs": [],
   "source": [
    "import tkinter as tk\n",
    "\n",
    "root = tk.Tk()\n",
    "root.title(\"Justify Demo\")\n",
    "\n",
    "text = \"Ez egy\n",
    "háromsoros\n",
    "szöveg igazítási\n",
    "példája.\"\n",
    "\n",
    "label = tk.Label(root, text=text, justify=\"right\", anchor=\"w\", font=(\"Arial\", 12), bg=\"lightyellow\")\n",
    "label.pack(padx=20, pady=20)\n",
    "\n",
    "print(\"A sorok jobbra vannak igazítva egymáshoz képest.\")\n",
    "\n",
    "root.mainloop()\n"
   ]
  }
 ],
 "metadata": {},
 "nbformat": 4,
 "nbformat_minor": 5
}
